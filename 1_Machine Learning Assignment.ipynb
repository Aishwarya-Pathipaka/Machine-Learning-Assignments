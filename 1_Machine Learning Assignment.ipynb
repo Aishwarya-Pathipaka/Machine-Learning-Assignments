{
 "cells": [
  {
   "cell_type": "markdown",
   "id": "cc422c89",
   "metadata": {},
   "source": [
    "## 1. What does one mean by the term \"machine learning\"?"
   ]
  },
  {
   "cell_type": "markdown",
   "id": "c24b918a",
   "metadata": {},
   "source": [
    "Machine learning is the concept that a computer program can learn and adapt to new data without human intervention. Machine learning is a field of artificial intelligence (AI) that keeps a computer’s built-in algorithms current regardless of changes in the worldwide economy."
   ]
  },
  {
   "cell_type": "markdown",
   "id": "57bb7189",
   "metadata": {},
   "source": [
    "## 2.Can you think of 4 distinct types of issues where it shines?"
   ]
  },
  {
   "cell_type": "code",
   "execution_count": 1,
   "id": "85c82f90",
   "metadata": {},
   "outputs": [
    {
     "ename": "SyntaxError",
     "evalue": "invalid syntax (Temp/ipykernel_22756/2197970147.py, line 1)",
     "output_type": "error",
     "traceback": [
      "\u001b[1;36m  File \u001b[1;32m\"C:\\Users\\AISHWA~1\\AppData\\Local\\Temp/ipykernel_22756/2197970147.py\"\u001b[1;36m, line \u001b[1;32m1\u001b[0m\n\u001b[1;33m    Supervised Machine Learning Algorithms\u001b[0m\n\u001b[1;37m               ^\u001b[0m\n\u001b[1;31mSyntaxError\u001b[0m\u001b[1;31m:\u001b[0m invalid syntax\n"
     ]
    }
   ],
   "source": [
    "Supervised Machine Learning Algorithms\n",
    "Unsupervised Machine Learning Algorithms\n",
    "Semi-supervised Machine Learning Algorithms\n",
    "Reinforcement Machine Learning Algorithms"
   ]
  },
  {
   "cell_type": "markdown",
   "id": "690ba737",
   "metadata": {},
   "source": [
    "## 3.What is a labeled training set, and how does it work?"
   ]
  },
  {
   "cell_type": "code",
   "execution_count": null,
   "id": "5e14cac9",
   "metadata": {},
   "outputs": [],
   "source": [
    "A labeled training set is a training set that contains the desired solution (a.k.a. a label) for each instance.\n",
    "\n"
   ]
  },
  {
   "cell_type": "markdown",
   "id": "784b8152",
   "metadata": {},
   "source": [
    "## 4.What are the two most important tasks that are supervised?\n"
   ]
  },
  {
   "cell_type": "code",
   "execution_count": null,
   "id": "0be3593b",
   "metadata": {},
   "outputs": [],
   "source": [
    "The two most common supervised tasks are regression and classification.\n",
    "\n"
   ]
  },
  {
   "cell_type": "markdown",
   "id": "56300e8a",
   "metadata": {},
   "source": [
    "## 5.Can you think of four examples of unsupervised tasks?"
   ]
  },
  {
   "cell_type": "code",
   "execution_count": 2,
   "id": "21c245f6",
   "metadata": {},
   "outputs": [
    {
     "ename": "SyntaxError",
     "evalue": "invalid syntax (Temp/ipykernel_22756/3281800969.py, line 1)",
     "output_type": "error",
     "traceback": [
      "\u001b[1;36m  File \u001b[1;32m\"C:\\Users\\AISHWA~1\\AppData\\Local\\Temp/ipykernel_22756/3281800969.py\"\u001b[1;36m, line \u001b[1;32m1\u001b[0m\n\u001b[1;33m    Common unsupervised tasks include clustering, visualization, dimensionality reduction, and association rule learning.\u001b[0m\n\u001b[1;37m           ^\u001b[0m\n\u001b[1;31mSyntaxError\u001b[0m\u001b[1;31m:\u001b[0m invalid syntax\n"
     ]
    }
   ],
   "source": [
    "Common unsupervised tasks include clustering, visualization, dimensionality reduction, and association rule learning.\n",
    "\n"
   ]
  },
  {
   "cell_type": "markdown",
   "id": "6129a9cf",
   "metadata": {},
   "source": [
    "## 6.State the machine learning model that would be best to make a robot walk through various unfamiliar terrains?"
   ]
  },
  {
   "cell_type": "markdown",
   "id": "b36dce88",
   "metadata": {},
   "source": [
    "Reinforcement Learning is likely to perform best if we want a robot to learn to walk in various unknown terrains, since this is typically the type of problem that Reinforcement Learning tackles. It might be possible to express the problem as a supervised or semisupervised learning problem, but it would be less natural.\n",
    "\n"
   ]
  },
  {
   "cell_type": "markdown",
   "id": "e879132a",
   "metadata": {},
   "source": [
    "## 7.Which algorithm will you use to divide your customers into different groups?"
   ]
  },
  {
   "cell_type": "markdown",
   "id": "bf1c2735",
   "metadata": {},
   "source": [
    "If you don’t know how to define the groups, then you can use a clustering algorithm (unsupervised learning) to segment your customers into clusters of similar customers. However, if you know what groups you would like to have, then you can feed many examples of each group to a classification algorithm (supervised learning), and it will classify all your customers into these groups.\n",
    "\n"
   ]
  },
  {
   "cell_type": "code",
   "execution_count": null,
   "id": "7633de52",
   "metadata": {},
   "outputs": [],
   "source": []
  },
  {
   "cell_type": "markdown",
   "id": "2b41ef11",
   "metadata": {},
   "source": [
    "## 8.Will you consider the problem of spam detection to be a supervised or unsupervised learning problem?"
   ]
  },
  {
   "cell_type": "markdown",
   "id": "38478668",
   "metadata": {},
   "source": [
    "Spam detection is a typical supervised learning problem: the algorithm is fed many emails along with their labels (spam or not spam).\n",
    "\n"
   ]
  },
  {
   "cell_type": "markdown",
   "id": "0c02b4e2",
   "metadata": {},
   "source": [
    "## 9.What is the concept of an online learning system?"
   ]
  },
  {
   "cell_type": "markdown",
   "id": "20b2bcac",
   "metadata": {},
   "source": [
    "An online learning system can learn incrementally, as opposed to a batch learning system. This makes it capable of adapting rapidly to both changing data and autonomous systems, and of training on very large quantities of data.\n",
    "\n"
   ]
  },
  {
   "cell_type": "markdown",
   "id": "010ee4a5",
   "metadata": {},
   "source": [
    "## 10.What is out-of-core learning, and how does it differ from core learning?"
   ]
  },
  {
   "cell_type": "markdown",
   "id": "32e844f6",
   "metadata": {},
   "source": [
    "Out-of-core algorithms can handle vast quantities of data that cannot fit in a computer’s main memory. An out-of-core learning algorithm chops the data into mini-batches and uses online learning techniques to learn from these mini-batches.\n",
    "\n"
   ]
  },
  {
   "cell_type": "markdown",
   "id": "d92a09f8",
   "metadata": {},
   "source": [
    "## 11.What kind of learning algorithm makes predictions using a similarity measure?"
   ]
  },
  {
   "cell_type": "markdown",
   "id": "f05b4e65",
   "metadata": {},
   "source": [
    "An instance-based learning system learns the training data by heart; then, when given a new instance, it uses a similarity measure to find the most similar learned instances and uses them to make predictions.\n",
    "\n"
   ]
  },
  {
   "cell_type": "markdown",
   "id": "94d5f94a",
   "metadata": {},
   "source": [
    "## 12.What's the difference between a model parameter and a hyperparameter in a learning algorithm?"
   ]
  },
  {
   "cell_type": "markdown",
   "id": "3c1ff27e",
   "metadata": {},
   "source": [
    "A model has one or more model parameters that determine what it will predict given a new instance (e.g., the slope of a linear model). A learning algorithm tries to find optimal values for these parameters such that the model generalizes well to new instances. A hyperparameter is a parameter of the learning algorithm itself, not of the model (e.g., the amount of regularization to apply).\n",
    "\n"
   ]
  },
  {
   "cell_type": "markdown",
   "id": "89f41e50",
   "metadata": {},
   "source": [
    "## 13.What are the criteria that model-based learning algorithms look for? What is the most popular method they use to achieve success? What method do they use to make predictions?"
   ]
  },
  {
   "cell_type": "markdown",
   "id": "b31ce6d1",
   "metadata": {},
   "source": [
    "Model-based learning algorithms search for an optimal value for the model parameters such that the model will generalize well to new instances. We usually train such systems by minimizing a cost function that measures how bad the system is at making predictions on the training data, plus a penalty for model complexity if the model is regularized. To make predictions, we feed the new instance’s features into the model’s prediction function, using the parameter values found by the learning algorithm.\n",
    "\n"
   ]
  },
  {
   "cell_type": "markdown",
   "id": "fa09d02d",
   "metadata": {},
   "source": [
    "## 14.Can you name four of the most important Machine Learning challenges?"
   ]
  },
  {
   "cell_type": "markdown",
   "id": "0858fbd0",
   "metadata": {},
   "source": [
    "Some of the main challenges in Machine Learning are the lack of data, poor data quality, nonrepresentative data, uninformative features, excessively simple models that underfit the training data, and excessively complex models that overfit the data.\n",
    "\n"
   ]
  },
  {
   "cell_type": "markdown",
   "id": "db80e09a",
   "metadata": {},
   "source": [
    "## 15.What happens if the model performs well on the training data but fails to generalize the results to new situations? Can you think of three different options?"
   ]
  },
  {
   "cell_type": "markdown",
   "id": "ecc50126",
   "metadata": {},
   "source": [
    "If a model performs great on the training data but generalizes poorly to new instances, the model is likely overfitting the training data (or we got extremely lucky on the training data). Possible solutions to overfitting are getting more data, simplifying the model (selecting a simpler algorithm, reducing the number of parameters or features used, or regularizing the model), or reducing the noise in the training data.\n",
    "\n"
   ]
  },
  {
   "cell_type": "markdown",
   "id": "1bcee9d9",
   "metadata": {},
   "source": [
    "## 16.What exactly is a test set, and why would you need one?"
   ]
  },
  {
   "cell_type": "markdown",
   "id": "44ca1b61",
   "metadata": {},
   "source": [
    "A test set is used to estimate the generalization error that a model will make on new instances, before the model is launched in production.\n",
    "\n"
   ]
  },
  {
   "cell_type": "markdown",
   "id": "44c70abc",
   "metadata": {},
   "source": [
    "## 17.What is a validation set's purpose?"
   ]
  },
  {
   "cell_type": "markdown",
   "id": "cf17a82b",
   "metadata": {},
   "source": [
    "A validation set is used to compare models. It makes it possible to select the best model and tune the hyperparameters.\n",
    "\n"
   ]
  },
  {
   "cell_type": "markdown",
   "id": "2698817a",
   "metadata": {},
   "source": [
    "## 18.What precisely is the train-dev kit, when will you need it, how do you put it to use?"
   ]
  },
  {
   "cell_type": "markdown",
   "id": "51710e03",
   "metadata": {},
   "source": [
    "The train-dev set is used when there is a risk of mismatch between the training data and the data used in the validation and test datasets (which should always be as close as possible to the data used once the model is in production). The train-dev set is a part of the training set that’s held out (the model is not trained on it). The model is trained on the rest of the training set, and evaluated on both the train-dev set and the validation set. If the model performs well on the training set but not on the train-dev set, then the model is likely overfitting the training set. If it performs well on both the training set and the train-dev set, but not on the validation set, then there is probably a significant data mismatch between the training data and the validation + test data, and you should try to improve the training data to make it look more like the validation + test data.\n",
    "\n"
   ]
  },
  {
   "cell_type": "markdown",
   "id": "c0bb5f2b",
   "metadata": {},
   "source": [
    "## 19.What could go wrong if you use the test set to tune hyperparameters?"
   ]
  },
  {
   "cell_type": "markdown",
   "id": "338bb8f8",
   "metadata": {},
   "source": [
    "If you tune hyperparameters using the test set, you risk overfitting the test set, and the generalization error you measure will be optimistic (you may launch a model that performs worse than you expect)."
   ]
  }
 ],
 "metadata": {
  "kernelspec": {
   "display_name": "Python 3 (ipykernel)",
   "language": "python",
   "name": "python3"
  },
  "language_info": {
   "codemirror_mode": {
    "name": "ipython",
    "version": 3
   },
   "file_extension": ".py",
   "mimetype": "text/x-python",
   "name": "python",
   "nbconvert_exporter": "python",
   "pygments_lexer": "ipython3",
   "version": "3.9.7"
  }
 },
 "nbformat": 4,
 "nbformat_minor": 5
}
